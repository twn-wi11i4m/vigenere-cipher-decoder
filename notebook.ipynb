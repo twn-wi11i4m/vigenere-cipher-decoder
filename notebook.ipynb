{
 "cells": [
  {
   "cell_type": "markdown",
   "metadata": {},
   "source": [
    "# Vigenère Cipher Decoder Demo\n",
    "\n",
    "This notebook demonstrates how to decode a message encrypted with the Vigenère cipher. Our example includes:\n",
    "- A key: **MENSA**\n",
    "- An encoded message with two parts:\n",
    "  - First line: Message in 粵語拼音 (Yale romanization for Cantonese)\n",
    "  - Second line: A hidden message in English\n",
    "\n",
    "## What is the Vigenère Cipher?\n",
    "\n",
    "The Vigenère cipher is a method of encrypting alphabetic text using a simple form of polyalphabetic substitution. It uses a keyword to shift letters in the plaintext to create the ciphertext.\n",
    "\n",
    "To decrypt, we shift each letter in the opposite direction based on the corresponding letter in the keyword."
   ]
  },
  {
   "cell_type": "code",
   "execution_count": 1,
   "metadata": {},
   "outputs": [],
   "source": [
    "alphabet_id = {\n",
    "    \"a\": 0,\n",
    "    \"b\": 1,\n",
    "    \"c\": 2,\n",
    "    \"d\": 3,\n",
    "    \"e\": 4,\n",
    "    \"f\": 5,\n",
    "    \"g\": 6,\n",
    "    \"h\": 7,\n",
    "    \"i\": 8,\n",
    "    \"j\": 9,\n",
    "    \"k\": 10,\n",
    "    \"l\": 11,\n",
    "    \"m\": 12,\n",
    "    \"n\": 13,\n",
    "    \"o\": 14,\n",
    "    \"p\": 15,\n",
    "    \"q\": 16,\n",
    "    \"r\": 17,\n",
    "    \"s\": 18,\n",
    "    \"t\": 19,\n",
    "    \"u\": 20,\n",
    "    \"v\": 21,\n",
    "    \"w\": 22,\n",
    "    \"x\": 23,\n",
    "    \"y\": 24,\n",
    "    \"z\": 25\n",
    "}\n",
    "\n",
    "# Create a reverse mapping for decoding\n",
    "id_to_alphabet = {v: k for k, v in alphabet_id.items()}"
   ]
  },
  {
   "cell_type": "markdown",
   "metadata": {},
   "source": [
    "## Vigenère Cipher Decoding Function\n",
    "\n",
    "Here's a function to decode a message encrypted with the Vigenère cipher:"
   ]
  },
  {
   "cell_type": "code",
   "execution_count": 2,
   "metadata": {},
   "outputs": [],
   "source": [
    "def vigenere_decode(ciphertext, key):\n",
    "    # Convert key to lowercase for consistent processing\n",
    "    key = key.lower()\n",
    "    key_values = [alphabet_id[k] for k in key]\n",
    "    decoded_message = []\n",
    "    \n",
    "    # Process each character in the ciphertext\n",
    "    i = 0  # Index for the key\n",
    "    for char in ciphertext.lower():\n",
    "        if char in alphabet_id:  # Only process alphabet characters\n",
    "            # Subtract key value from ciphertext value\n",
    "            shift = key_values[i % len(key_values)]\n",
    "            char_value = alphabet_id[char]\n",
    "            # Apply modular arithmetic to handle wraparound\n",
    "            decoded_value = (char_value - shift) % 26\n",
    "            decoded_char = id_to_alphabet[decoded_value]\n",
    "            \n",
    "            # Preserve original case\n",
    "            if ciphertext[len(decoded_message)].isupper():\n",
    "                decoded_message.append(decoded_char.upper())\n",
    "            else:\n",
    "                decoded_message.append(decoded_char)\n",
    "            \n",
    "            i += 1  # Move to next key character\n",
    "        else:\n",
    "            # Keep non-alphabet characters as is\n",
    "            decoded_message.append(char)\n",
    "    \n",
    "    return ''.join(decoded_message)"
   ]
  },
  {
   "cell_type": "markdown",
   "metadata": {},
   "source": [
    "## Our Encrypted Message\n",
    "\n",
    "Let's define our encrypted message and the key:"
   ]
  },
  {
   "cell_type": "code",
   "execution_count": 3,
   "metadata": {},
   "outputs": [
    {
     "name": "stdout",
     "output_type": "stream",
     "text": [
      "Encrypted Message:\n",
      "Tihfg ssay mgr fsaf kvfg\n",
      "Yiaka Tsay Kart Zisl VI\n",
      "\n",
      "Key: MENSA\n"
     ]
    }
   ],
   "source": [
    "# The encrypted message with two components\n",
    "encoded_text = \"\"\"Tihfg ssay mgr fsaf kvfg\n",
    "Yiaka Tsay Kart Zisl VI\"\"\"\n",
    "\n",
    "key = \"MENSA\"\n",
    "\n",
    "# Display the encoded message and key\n",
    "print(\"Encrypted Message:\")\n",
    "print(encoded_text)\n",
    "print(f\"\\nKey: {key}\")"
   ]
  },
  {
   "cell_type": "markdown",
   "metadata": {},
   "source": [
    "## Decoding the Message\n",
    "\n",
    "Now let's decode the message using our Vigenère cipher decoder:"
   ]
  },
  {
   "cell_type": "code",
   "execution_count": 4,
   "metadata": {},
   "outputs": [
    {
     "name": "stdout",
     "output_type": "stream",
     "text": [
      "Decoded Message:\n",
      "Heung gong mun saat ging\n",
      "Mensa Hong Kong High IQ\n"
     ]
    }
   ],
   "source": [
    "decoded_message = vigenere_decode(encoded_text, key)\n",
    "\n",
    "print(\"Decoded Message:\")\n",
    "print(decoded_message)"
   ]
  },
  {
   "cell_type": "markdown",
   "metadata": {},
   "source": [
    "## Step-by-Step Decoding Process\n",
    "\n",
    "Let's walk through the decoding process for the first few characters to understand how it works:"
   ]
  },
  {
   "cell_type": "code",
   "execution_count": 5,
   "metadata": {},
   "outputs": [
    {
     "name": "stdout",
     "output_type": "stream",
     "text": [
      "Character  Key        Calculation          Result    \n",
      "--------------------------------------------------\n",
      "t          m          t(19) - m(12) = 7    h         \n",
      "i          e          i(8) - e(4) = 4      e         \n",
      "h          n          h(7) - n(13) = 20    u         \n",
      "f          s          f(5) - s(18) = 13    n         \n",
      "g          a          g(6) - a(0) = 6      g         \n",
      "           N/A        Non-alphabetic                 \n",
      "s          m          s(18) - m(12) = 6    g         \n",
      "s          e          s(18) - e(4) = 14    o         \n",
      "a          n          a(0) - n(13) = 13    n         \n",
      "y          s          y(24) - s(18) = 6    g         \n"
     ]
    },
    {
     "data": {
      "text/plain": [
       "'heung gong'"
      ]
     },
     "execution_count": 5,
     "metadata": {},
     "output_type": "execute_result"
    }
   ],
   "source": [
    "def step_by_step_decoding(ciphertext, key, num_chars=10):\n",
    "    key = key.lower()\n",
    "    key_repeated = ''\n",
    "    decoded = ''\n",
    "    key_index = 0\n",
    "    \n",
    "    # Only look at the first num_chars characters for this example\n",
    "    ciphertext = ciphertext[:num_chars]\n",
    "    \n",
    "    print(f\"{'Character':<10} {'Key':<10} {'Calculation':<20} {'Result':<10}\")\n",
    "    print(\"-\" * 50)\n",
    "    \n",
    "    for char in ciphertext.lower():\n",
    "        if char in alphabet_id:\n",
    "            # Get the current key character\n",
    "            key_char = key[key_index % len(key)]\n",
    "            key_repeated += key_char\n",
    "            \n",
    "            # Decode the character\n",
    "            char_value = alphabet_id[char]\n",
    "            key_value = alphabet_id[key_char]\n",
    "            decoded_value = (char_value - key_value) % 26\n",
    "            decoded_char = id_to_alphabet[decoded_value]\n",
    "            \n",
    "            # Format values for better display\n",
    "            calculation = f\"{char}({char_value}) - {key_char}({key_value}) = {decoded_value}\"\n",
    "            \n",
    "            print(f\"{char:<10} {key_char:<10} {calculation:<20} {decoded_char:<10}\")\n",
    "            \n",
    "            decoded += decoded_char\n",
    "            key_index += 1\n",
    "        else:\n",
    "            decoded += char\n",
    "            print(f\"{char:<10} {'N/A':<10} {'Non-alphabetic':<20} {char:<10}\")\n",
    "    \n",
    "    return decoded\n",
    "\n",
    "# Demonstrate the step-by-step decoding\n",
    "first_few_chars = encoded_text.split('\\n')[0][:10]  # First 10 chars of first line\n",
    "step_by_step_decoding(first_few_chars, key)"
   ]
  },
  {
   "cell_type": "markdown",
   "metadata": {},
   "source": [
    "## Interpreting the Results\n",
    "\n",
    "Let's split the decoded message into its two components:"
   ]
  },
  {
   "cell_type": "code",
   "execution_count": 6,
   "metadata": {},
   "outputs": [
    {
     "name": "stdout",
     "output_type": "stream",
     "text": [
      "First line (Cantonese Yale romanization):\n",
      "Heung gong mun saat ging\n",
      "\n",
      "Second line (English hidden message):\n",
      "Mensa Hong Kong High IQ\n"
     ]
    }
   ],
   "source": [
    "lines = decoded_message.split('\\n')\n",
    "\n",
    "print(\"First line (Cantonese Yale romanization):\")\n",
    "print(lines[0])\n",
    "print(\"\\nSecond line (English hidden message):\")\n",
    "print(lines[1])"
   ]
  },
  {
   "cell_type": "markdown",
   "metadata": {},
   "source": [
    "## Conclusion\n",
    "\n",
    "We have successfully decoded a two-part message using the Vigenère cipher with the key \"MENSA\":\n",
    "\n",
    "1. The first part is in Cantonese Yale romanization, representing how the message would be pronounced in Cantonese.\n",
    "2. The second part is an English message.\n",
    "\n",
    "This demonstrates how the Vigenère cipher can be used to encode messages in multiple languages using the same key."
   ]
  }
 ],
 "metadata": {
  "kernelspec": {
   "display_name": "Python 3",
   "language": "python",
   "name": "python3"
  },
  "language_info": {
   "codemirror_mode": {
    "name": "ipython",
    "version": 3
   },
   "file_extension": ".py",
   "mimetype": "text/x-python",
   "name": "python",
   "nbconvert_exporter": "python",
   "pygments_lexer": "ipython3",
   "version": "3.9.21"
  }
 },
 "nbformat": 4,
 "nbformat_minor": 2
}
